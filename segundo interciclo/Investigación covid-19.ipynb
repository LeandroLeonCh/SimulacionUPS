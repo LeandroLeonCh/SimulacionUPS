{
 "cells": [
  {
   "cell_type": "markdown",
   "metadata": {},
   "source": [
    "## Investigación  COVID-19 \n",
    "### Leanro León\n",
    "\n",
    "## 1. Investigar el proceso de atencion de un paciente diagnosticado con COVID-19\n",
    "\n",
    "Desde que el virus logró adentrarse en el país, los protocolos de salud han debido de ser cambiados, en tan solo un mes el país ya sufría estragos de la pandemia. \n",
    "Debido a esto la prioridad en los centros de salud ha sido combatir el virus, aunquue esta lucha a sido cada vez más difícil por varios factores, desde la imprudencia de la población, la falta de insumos médicos hasta llegar a la vergonzosa corrupción e indolencia de quienes cometiron estos actos a costa de la salud e incluso vida de los ecuatorianos por simplemente obtener ganancias monetarias. \n",
    "\n",
    "Pues desde este punto partimos sobre la situación del país en esta pandemia global.\n",
    "\n",
    "En los centros de salud se han instaurado nuevos protocolos de como serán atendidos los pacientes, aunque el virus es el foco de atención, no han dejado de llegar casos \"normales\" de dolencias y enfermedades comunes, y esta han sido puestas como en un segundo plano, lo que ha echo aún más inciertas las cifras de personas que lastimosamente han fallecido y entran de manera simple a una lista de personas posiblemente fallecidas por covid-19\n",
    "\n",
    "He aquí algunos literales de cómo se está manejando la situación en los centros de salud\n",
    "\n",
    "- Activación del Comité Técnico de Prevención y Control de Infecciones del establecimiento de salud para aplicar medidas de contención.\n",
    "- Monitoreo y registro continuo de constantes vitales (frecuencia cardiaca, frecuencia respiratoria, temperatura y tensión arterial).\n",
    "- Administración de líquidos intravenosos para mantenimiento del equilibrio hidroelectrolítico y balance hídrico.\n",
    "- Mantenimiento de niveles adecuados de oxígeno y presión arterial.\n",
    "- Administración de antipiréticos. No administrar ASA, antinflamatorios no esferoidales (AINES).\n",
    "- Tratamiento de otras infecciones y/o complicaciones según se presenten.\n",
    "\n",
    "### Los pacientes\n",
    "\n",
    "Las personas que se contagian deben ser categorizadas, dependiendo su estado o síntomas.\n",
    "\n",
    "- Están los pacientes con sospecha, estos pacientes pueden presentar leves síntomas o por el simple echo de haber tenido contacto con alguna persona que ha sido confirmada por covid-19\n",
    "- Paciente confirmado, dicése a este paciente que después de realizarse las prubas corresondientes ha dado positivo en las mismas.\n",
    "- Paciente grave, a más de ya estar confrimado, su estado de salud es realmente frágil y con alta probabilidad de muerte\n",
    "- Recuperado, este paciente en buena hora a sido rehabilitado e incluso generado anticuerpos para evitar posibles recontagios en el futuro.\n",
    "\n",
    "\n",
    "### Recursos Biomédicos\n",
    "\n",
    "- Entro los más importantes están, el alcohol al 70%, mascarillas y traje de bioseguridad.\n",
    "- Los medicamentos pueden variar según el estado del paciente o los síntomas que presente, hay veces en las que ni siquiera es necesario suinistrar más de un simple medicamento.\n",
    "- Las mascarillas deben ser certificadas o comunmente conocidas como las KN95\n",
    "- Equipos, monitores, limpiar con mopa humedecida con alcohol al 70 %.\n",
    "- En caso de utilización de silla de ruedas, limpiar con mopa húmeda con agua oxigenada si tiene residuo de sangre o fluidos, secar y luego pasar mopa húmeda con alcohol al 70 % esperar que seque y guardar, de lo contrario únicamente pase una mopa húmeda con alcohol al 70 %.\n",
    "- Si la ambulancia utiliza una cobija, está se deberá almacenada en una bolsa roja, etiquetarla y entregar para su esterilización.\n",
    "\n",
    "\n",
    "## 2. Investigar en cada una de las provincias asignadas el numero de hospitales, camas, respiradores y personal medico, limpieza y enfermeria.\n",
    "En el Hospital se ingresan a los pacientes con sospecha de Covid-19 y les toman las muestras cuyos resultados llegan a los tres días posteriores. Aún si salen negativas, los enfermos se quedan ocho días en observación para descartar completamente que se trate de un caso positivo y se aplica el protocolo con cerco epidemiológico, según el director provincial del IESS.\n",
    "\n",
    "Tungurahua cuenta con el Hospital General Docente Ambato (HGDA), para la atencion de pacientes con posibles sintomas de COVID-19, el HGDA cuenta con 120 camas disponibles, se adecuó el quinto piso exclusivamente para pacientes contagiados de Covid-19 y cuentan con una carpa para la atención exclusiva de pacientes con temas respiratorios.\n",
    "\n",
    "En Ambato hay una capacidad instalada para atender a 24 pacientes con Covid-19 en las Unidades de Cuidados Intensivos (UCI), tanto en el Hospital General Docente como en el Hospital del IESS. El Hospital Ambato cuenta con 18 camas con sus respectivos respiradores en la UCI, de las cuales 15 están ocupadas, mientras que el IESS tiene seis camas en la UCI y cinco ya están con pacientes.\n",
    "\n",
    "## 3. Finalmente el costo de atender a un paciente con COVID-19 y medicamentos.\n",
    "Los costos de médicos en Ecuador se determinan básicamente por la oferta de doctores y demanda de pacientes. En la actualidad, los precios han variado de manera drástica por la situación sanitaria que vive el país debido a la pandemia Covid-19.\n",
    "\n",
    "Según el boletín de precios al consumidor del año 2020, emitido por el Instituto Nacional de Estadística y Censos (INEC), los productos con mayor incidencia a la variación mensual de inflación en la división de Salud son: gastos en hospitalización con 0,53%; consulta médico especialista 0,11%; medicamentos para el sistema nervioso 0,73% y consulta médico general 0,38%.\n",
    "\n",
    "La hospitalización de un paciente por covid se ha disparado llegando a estar entre los $50000 y $70000 dolares, precios que han tenido que cancelar pacientes con bajos recursos económicos y que han sido de malestar general para la población.\n",
    "\n",
    "## Referencias\n",
    "1. https://uanalisis.uide.edu.ec/epidemiologia/\n",
    "2. https://www.salud.gob.ec/coronavirus-covid-19/\n",
    "3. https://www.covid19ecuador.org/cantones\n"
   ]
  },
  {
   "cell_type": "code",
   "execution_count": null,
   "metadata": {},
   "outputs": [],
   "source": []
  }
 ],
 "metadata": {
  "kernelspec": {
   "display_name": "'Python(ia2)'",
   "language": "python",
   "name": "ia2"
  },
  "language_info": {
   "codemirror_mode": {
    "name": "ipython",
    "version": 3
   },
   "file_extension": ".py",
   "mimetype": "text/x-python",
   "name": "python",
   "nbconvert_exporter": "python",
   "pygments_lexer": "ipython3",
   "version": "3.8.5"
  }
 },
 "nbformat": 4,
 "nbformat_minor": 4
}
