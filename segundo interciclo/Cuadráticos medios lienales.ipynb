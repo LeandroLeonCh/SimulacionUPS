{
 "cells": [
  {
   "cell_type": "markdown",
   "metadata": {},
   "source": [
    "## Números Pseudo Aleatorios Cuadráticos Medios\n",
    "\n",
    "### Leandro León.\n",
    "#### Generar números falsos aleatorios dada una semilla"
   ]
  },
  {
   "cell_type": "code",
   "execution_count": 5,
   "metadata": {},
   "outputs": [
    {
     "name": "stdout",
     "output_type": "stream",
     "text": [
      "Escriba semilla: 123456\n",
      "Escriba el número de iteraciones: 50\n",
      "1524138.3936\n",
      "8428455885.2096\n",
      "9320359.3216\n",
      "8837360122.2656\n",
      "5808769.4336\n",
      "3327256648.0896\n",
      "2953296.2816\n",
      "9269123864.9856\n",
      "4576882.0736\n",
      "5156410358.1696\n",
      "5574623.6416\n",
      "7454856452.5056\n",
      "1485180.3136\n",
      "5639049943.4496\n",
      "9579477.4016\n",
      "2877650876.8256\n",
      "5031328.1536\n",
      "9892079851.9296\n",
      "608433.5616\n",
      "13988812609.9456\n",
      "880349.5936\n",
      "54069516851.6096\n",
      "461108.1216\n",
      "6998054803.8656\n",
      "2847028.6336\n",
      "405382830.4896\n",
      "97673757.0816\n",
      "354061490.5856\n",
      "69174309.2736\n",
      "796629596.5696\n",
      "36520876.4416\n",
      "626138782.1056\n",
      "40347695.5136\n",
      "581775677.8496\n",
      "15600802.2016\n",
      "334474070.4256\n",
      "92285651.3536\n",
      "582135122.3296\n",
      "83565310.3616\n",
      "305323227.5456\n",
      "22346000.7936\n",
      "675718298.0096\n",
      "5953216.9216\n",
      "7156245805.4656\n",
      "1188327.8336\n",
      "401084692.8896\n",
      "47487977.8816\n",
      "833308236.1856\n",
      "57132376.4736\n",
      "211627714.9696\n"
     ]
    }
   ],
   "source": [
    "from scipy.stats import chisquare\n",
    "\n",
    "semilla =input(\"Escriba semilla: \")\n",
    "tam=input(\"Escriba el número de iteraciones: \")\n",
    "\n",
    "tam1 = int(tam)\n",
    "numero1 = int(semilla)\n",
    "valores =[]\n",
    "for i in range(tam1):\n",
    "    numero2 = (numero1**2)\n",
    "    snumero2 = str(numero2)\n",
    "    tam2 = len(snumero2)\n",
    "    numero=int((tam2/2)-(tam1/2)+1)\n",
    "    sNumero=str(numero2)\n",
    "    numUI=sNumero[numero-1:numero+tam1]\n",
    "    Ui=int(numUI)\n",
    "    numero1 = int(Ui)\n",
    "    Rn=Ui/10000\n",
    "    print(Rn)\n",
    "    valores.append(Rn/1000)"
   ]
  },
  {
   "cell_type": "code",
   "execution_count": null,
   "metadata": {},
   "outputs": [],
   "source": []
  },
  {
   "cell_type": "code",
   "execution_count": null,
   "metadata": {},
   "outputs": [],
   "source": []
  }
 ],
 "metadata": {
  "kernelspec": {
   "display_name": "'Python(ia2)'",
   "language": "python",
   "name": "ia2"
  },
  "language_info": {
   "codemirror_mode": {
    "name": "ipython",
    "version": 3
   },
   "file_extension": ".py",
   "mimetype": "text/x-python",
   "name": "python",
   "nbconvert_exporter": "python",
   "pygments_lexer": "ipython3",
   "version": "3.8.5"
  }
 },
 "nbformat": 4,
 "nbformat_minor": 4
}
