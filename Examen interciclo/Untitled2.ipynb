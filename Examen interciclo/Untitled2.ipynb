{
 "cells": [
  {
   "cell_type": "code",
   "execution_count": null,
   "metadata": {},
   "outputs": [],
   "source": []
  },
  {
   "cell_type": "code",
   "execution_count": 2,
   "metadata": {},
   "outputs": [
    {
     "ename": "RuntimeError",
     "evalue": "The current Numpy installation ('D:\\\\Users\\\\leand\\\\anaconda3\\\\envs\\\\simulacion\\\\lib\\\\site-packages\\\\numpy\\\\__init__.py') fails to pass a sanity check due to a bug in the windows runtime. See this issue for more information: https://tinyurl.com/y3dm3h86",
     "output_type": "error",
     "traceback": [
      "\u001b[1;31m---------------------------------------------------------------------------\u001b[0m",
      "\u001b[1;31mRuntimeError\u001b[0m                              Traceback (most recent call last)",
      "\u001b[1;32m<ipython-input-2-b3abf88f20f0>\u001b[0m in \u001b[0;36m<module>\u001b[1;34m\u001b[0m\n\u001b[0;32m      3\u001b[0m \u001b[1;32mimport\u001b[0m \u001b[0mcsv\u001b[0m\u001b[1;33m\u001b[0m\u001b[1;33m\u001b[0m\u001b[0m\n\u001b[0;32m      4\u001b[0m \u001b[1;32mfrom\u001b[0m \u001b[0mos\u001b[0m \u001b[1;32mimport\u001b[0m \u001b[0mremove\u001b[0m\u001b[1;33m\u001b[0m\u001b[1;33m\u001b[0m\u001b[0m\n\u001b[1;32m----> 5\u001b[1;33m \u001b[1;32mimport\u001b[0m \u001b[0mnumpy\u001b[0m \u001b[1;32mas\u001b[0m \u001b[0mnp\u001b[0m\u001b[1;33m\u001b[0m\u001b[1;33m\u001b[0m\u001b[0m\n\u001b[0m\u001b[0;32m      6\u001b[0m \u001b[1;32mimport\u001b[0m \u001b[0mpandas\u001b[0m \u001b[1;32mas\u001b[0m \u001b[0mpd\u001b[0m\u001b[1;33m\u001b[0m\u001b[1;33m\u001b[0m\u001b[0m\n\u001b[0;32m      7\u001b[0m \u001b[1;32mimport\u001b[0m \u001b[0mseaborn\u001b[0m \u001b[1;32mas\u001b[0m \u001b[0msb\u001b[0m\u001b[1;33m\u001b[0m\u001b[1;33m\u001b[0m\u001b[0m\n",
      "\u001b[1;32mD:\\Users\\leand\\anaconda3\\envs\\simulacion\\lib\\site-packages\\numpy\\__init__.py\u001b[0m in \u001b[0;36m<module>\u001b[1;34m\u001b[0m\n\u001b[0;32m    303\u001b[0m \u001b[1;33m\u001b[0m\u001b[0m\n\u001b[0;32m    304\u001b[0m     \u001b[1;32mif\u001b[0m \u001b[0msys\u001b[0m\u001b[1;33m.\u001b[0m\u001b[0mplatform\u001b[0m \u001b[1;33m==\u001b[0m \u001b[1;34m\"win32\"\u001b[0m \u001b[1;32mand\u001b[0m \u001b[0msys\u001b[0m\u001b[1;33m.\u001b[0m\u001b[0mmaxsize\u001b[0m \u001b[1;33m>\u001b[0m \u001b[1;36m2\u001b[0m\u001b[1;33m**\u001b[0m\u001b[1;36m32\u001b[0m\u001b[1;33m:\u001b[0m\u001b[1;33m\u001b[0m\u001b[1;33m\u001b[0m\u001b[0m\n\u001b[1;32m--> 305\u001b[1;33m         \u001b[0m_win_os_check\u001b[0m\u001b[1;33m(\u001b[0m\u001b[1;33m)\u001b[0m\u001b[1;33m\u001b[0m\u001b[1;33m\u001b[0m\u001b[0m\n\u001b[0m\u001b[0;32m    306\u001b[0m \u001b[1;33m\u001b[0m\u001b[0m\n\u001b[0;32m    307\u001b[0m     \u001b[1;32mdel\u001b[0m \u001b[0m_win_os_check\u001b[0m\u001b[1;33m\u001b[0m\u001b[1;33m\u001b[0m\u001b[0m\n",
      "\u001b[1;32mD:\\Users\\leand\\anaconda3\\envs\\simulacion\\lib\\site-packages\\numpy\\__init__.py\u001b[0m in \u001b[0;36m_win_os_check\u001b[1;34m()\u001b[0m\n\u001b[0;32m    300\u001b[0m                    \u001b[1;34m\"See this issue for more information: \"\u001b[0m\u001b[1;33m\u001b[0m\u001b[1;33m\u001b[0m\u001b[0m\n\u001b[0;32m    301\u001b[0m                    \"https://tinyurl.com/y3dm3h86\")\n\u001b[1;32m--> 302\u001b[1;33m             \u001b[1;32mraise\u001b[0m \u001b[0mRuntimeError\u001b[0m\u001b[1;33m(\u001b[0m\u001b[0mmsg\u001b[0m\u001b[1;33m.\u001b[0m\u001b[0mformat\u001b[0m\u001b[1;33m(\u001b[0m\u001b[0m__file__\u001b[0m\u001b[1;33m)\u001b[0m\u001b[1;33m)\u001b[0m \u001b[1;32mfrom\u001b[0m \u001b[1;32mNone\u001b[0m\u001b[1;33m\u001b[0m\u001b[1;33m\u001b[0m\u001b[0m\n\u001b[0m\u001b[0;32m    303\u001b[0m \u001b[1;33m\u001b[0m\u001b[0m\n\u001b[0;32m    304\u001b[0m     \u001b[1;32mif\u001b[0m \u001b[0msys\u001b[0m\u001b[1;33m.\u001b[0m\u001b[0mplatform\u001b[0m \u001b[1;33m==\u001b[0m \u001b[1;34m\"win32\"\u001b[0m \u001b[1;32mand\u001b[0m \u001b[0msys\u001b[0m\u001b[1;33m.\u001b[0m\u001b[0mmaxsize\u001b[0m \u001b[1;33m>\u001b[0m \u001b[1;36m2\u001b[0m\u001b[1;33m**\u001b[0m\u001b[1;36m32\u001b[0m\u001b[1;33m:\u001b[0m\u001b[1;33m\u001b[0m\u001b[1;33m\u001b[0m\u001b[0m\n",
      "\u001b[1;31mRuntimeError\u001b[0m: The current Numpy installation ('D:\\\\Users\\\\leand\\\\anaconda3\\\\envs\\\\simulacion\\\\lib\\\\site-packages\\\\numpy\\\\__init__.py') fails to pass a sanity check due to a bug in the windows runtime. See this issue for more information: https://tinyurl.com/y3dm3h86"
     ]
    }
   ],
   "source": [
    "import tweepy\n",
    "import json \n",
    "import csv\n",
    "from os import remove\n",
    "import numpy as np\n",
    "import pandas as pd\n",
    "import seaborn as sb\n",
    "import matplotlib.pyplot as plt\n",
    "%matplotlib inline\n",
    "from mpl_toolkits.mplot3d import Axes3D\n",
    "from matplotlib import cm\n",
    "plt.rcParams['figure.figsize'] = (16, 9)\n",
    "plt.style.use('ggplot')\n",
    "from sklearn import linear_model\n",
    "from sklearn.metrics import mean_squared_error, r2_score"
   ]
  },
  {
   "cell_type": "markdown",
   "metadata": {},
   "source": [
    "### Autenticación de usuario para la app de twitter"
   ]
  },
  {
   "cell_type": "code",
   "execution_count": null,
   "metadata": {},
   "outputs": [],
   "source": [
    "consumer_key = 'FsNkq2SyJl469EAnCJlzQjTbW'\n",
    "consumer_secret = 'LdBzdUNzoM9dcz4Oa2BOCp8Lp6IqdvRk3khvxYRdwnWQdxnDPl'\n",
    "access_token ='1339939296611069957-g6C97ncUsHoBAj5y8mH6XOegM90jv5' \n",
    "access_token_secret = 'J9hkEtJaNC1Doxe2PhE6ymT2l83x77zFUjRAkwrW0jiWk'\n",
    "\n",
    "auth = tweepy.OAuthHandler(consumer_key,consumer_secret)\n",
    "\n",
    "auth.set_access_token(access_token,access_token_secret)\n",
    "#OBTENER MI INFORMACION\n",
    "api = tweepy.API(auth, wait_on_rate_limit=True, wait_on_rate_limit_notify=True) "
   ]
  },
  {
   "cell_type": "markdown",
   "metadata": {},
   "source": [
    "### Creación de un array con los candidatos a precidencia de la república del Ecuador\n",
    "#### Estos son los nombres que usan los candidatos en la red social Twitter \n"
   ]
  },
  {
   "cell_type": "code",
   "execution_count": null,
   "metadata": {},
   "outputs": [],
   "source": [
    "candidatos = ['LassoGuillermo','AbAlvaroNoboa', 'ecuarauz' , 'yakuperezg','juanfervelasco'  ]\n",
    "#candidatos_Asamblea = ['karlabeltrang','ceciline1','LourdesCuestaO', 'AndreGonzalezBe']\n",
    "candidatos"
   ]
  },
  {
   "cell_type": "markdown",
   "metadata": {},
   "source": [
    "### Crear un objeto candidato  y este almacenar en un array de objetos candidato"
   ]
  },
  {
   "cell_type": "code",
   "execution_count": null,
   "metadata": {},
   "outputs": [],
   "source": [
    "row_data=[]"
   ]
  },
  {
   "cell_type": "markdown",
   "metadata": {},
   "source": [
    "### Obtenemos la información relevantes para la regresión de la cuenta del candidato"
   ]
  },
  {
   "cell_type": "code",
   "execution_count": null,
   "metadata": {
    "scrolled": true
   },
   "outputs": [],
   "source": [
    "remove(\"candidatos.csv\")\n",
    "\n",
    "\n",
    "name, user, location, follower, fecha, id_tweet, text, menciones, likes, hashtags, share = '','', '' ,'','','','','','','',''\n",
    "rows  = [['Nombre', 'usuario', 'locacion', 'followers Twitter', 'fecha tweet',\n",
    "          'id tweet', 'contenido','menciones' , 'likes', 'hashtags', 'veces compartido']]\n",
    "contador_filas =0\n",
    "for candidato in candidatos:\n",
    "    data = api.get_user(candidato)\n",
    "    print('DATOS DEL CANDIDATO: '+ data._json['name'])\n",
    "    print('usuario  => ' +data._json['screen_name'])\n",
    "    print('Ubicación => '+data._json['location'])\n",
    "    print('Seguidores en Twitter => '+ str(data._json['followers_count']))\n",
    "    #print(type(data._json['entities']))\n",
    "    #print(type(data._json['status']))\n",
    "    diccionario =data._json['entities'] \n",
    "    lista=[]\n",
    "   \n",
    "    for link in diccionario :  #recorremos \n",
    "        valor = diccionario[link]\n",
    "        for vrd_valor in valor:\n",
    "            lista = [lista,valor[vrd_valor]]\n",
    "            \n",
    "    new_lista = lista[0]\n",
    "    listaA=new_lista[1]\n",
    "    i=0;\n",
    "    link_candidato=''\n",
    "    for dia in listaA:\n",
    "        link =dia\n",
    "        for links in link:\n",
    "            i=i+1\n",
    "            if i == 2:\n",
    "                link_candidato =link[links]\n",
    "                \n",
    "            #print(link[links])\n",
    "\n",
    "    print(link_candidato)\n",
    "    print('TWEETS DEL CANDIDATO')\n",
    "    name, user, location, followers = data._json['name'],data._json['screen_name'],data._json['location'],data._json['followers_count']\n",
    "    \n",
    "    for tweet in tweepy.Cursor(api.user_timeline, screen_name=candidato, tweet_mode = 'extend').items(25):\n",
    "        #print(json.dumps(tweet._json, indent=2))\n",
    "        #print('DESCRICPCIÓN TWEET:' )\n",
    "        #print('PUBLICADO EL   => ' +str(tweet._json['created_at']))\n",
    "        #print('ID tweet  => ' +str(tweet._json['id_str']))\n",
    "        #print('TEXTO  => ' +str(tweet._json['text']))\n",
    "        #print('RETWITEADO  => ' +str(tweet._json['retweet_count']) + ' veces')\n",
    "        #print(\"LIKE's => \" +str(tweet._json['favorite_count']) )\n",
    "        #print('Lugar  => ' +str(tweet._json['entities']))\n",
    "        #print(tweet._json['entities'])\n",
    "        diccionario =tweet._json['entities'] \n",
    "        hashtags = diccionario['hashtags']\n",
    "        menciones = diccionario['user_mentions']\n",
    "        i=0;\n",
    "        j=0;\n",
    "        #print('HASHTAGS:')\n",
    "        users_mnc=''\n",
    "        hastags=''\n",
    "        for dia in hashtags:\n",
    "            hst = dia\n",
    "            for links in hst:\n",
    "\n",
    "                i=i+1\n",
    "                if i == 1:\n",
    "                    hastags =hst[links]\n",
    "                    #print(hastags)\n",
    "\n",
    "        #print('USERS MECIONADOS:')\n",
    "        for m in menciones:\n",
    "            mnc = m\n",
    "           #print(mnc)\n",
    "            for m_user in mnc:\n",
    "                j=j+1\n",
    "                if j == 1:\n",
    "                    users_mnc=mnc[m_user]\n",
    "                    #print(mnc[m_user])\n",
    "        fecha, id_tweet, text, menciones, likes, hashtags, share=tweet._json['created_at'],users_mnc,tweet._json['id_str'],tweet._json['text'].encode(\"utf-8\"),tweet._json['favorite_count'],hastags,tweet._json['retweet_count']       \n",
    "        single_row=[name, user, location, follower, fecha, id_tweet, text, menciones, likes, hashtags, share]\n",
    "        rows.append(single_row)\n",
    "        \n",
    "\n",
    "#for datos in row_data:\n",
    "    #print(datos)\n",
    "\n",
    "with open('candidatos.csv', 'w', newline='') as file:\n",
    "    writer = csv.writer(file)\n",
    "    writer.writerows(rows)"
   ]
  },
  {
   "cell_type": "code",
   "execution_count": null,
   "metadata": {},
   "outputs": [],
   "source": []
  },
  {
   "cell_type": "code",
   "execution_count": null,
   "metadata": {},
   "outputs": [],
   "source": []
  },
  {
   "cell_type": "code",
   "execution_count": null,
   "metadata": {},
   "outputs": [],
   "source": []
  }
 ],
 "metadata": {
  "kernelspec": {
   "display_name": "Python 3",
   "language": "python",
   "name": "python3"
  },
  "language_info": {
   "codemirror_mode": {
    "name": "ipython",
    "version": 3
   },
   "file_extension": ".py",
   "mimetype": "text/x-python",
   "name": "python",
   "nbconvert_exporter": "python",
   "pygments_lexer": "ipython3",
   "version": "3.8.5"
  }
 },
 "nbformat": 4,
 "nbformat_minor": 4
}
