{
 "cells": [
  {
   "cell_type": "code",
   "execution_count": 1,
   "metadata": {},
   "outputs": [],
   "source": [
    "import tweepy\n",
    "import json "
   ]
  },
  {
   "cell_type": "code",
   "execution_count": 1,
   "metadata": {},
   "outputs": [
    {
     "ename": "NameError",
     "evalue": "name 'tweepy' is not defined",
     "output_type": "error",
     "traceback": [
      "\u001b[1;31m---------------------------------------------------------------------------\u001b[0m",
      "\u001b[1;31mNameError\u001b[0m                                 Traceback (most recent call last)",
      "\u001b[1;32m<ipython-input-1-a054049af611>\u001b[0m in \u001b[0;36m<module>\u001b[1;34m\u001b[0m\n\u001b[0;32m      4\u001b[0m \u001b[0maccess_token_secret\u001b[0m \u001b[1;33m=\u001b[0m \u001b[1;34m'J9hkEtJaNC1Doxe2PhE6ymT2l83x77zFUjRAkwrW0jiWk'\u001b[0m\u001b[1;33m\u001b[0m\u001b[1;33m\u001b[0m\u001b[0m\n\u001b[0;32m      5\u001b[0m \u001b[1;33m\u001b[0m\u001b[0m\n\u001b[1;32m----> 6\u001b[1;33m \u001b[0mauth\u001b[0m \u001b[1;33m=\u001b[0m \u001b[0mtweepy\u001b[0m\u001b[1;33m.\u001b[0m\u001b[0mOAuthHandler\u001b[0m\u001b[1;33m(\u001b[0m\u001b[0mconsumer_key\u001b[0m\u001b[1;33m,\u001b[0m\u001b[0mconsumer_secret\u001b[0m\u001b[1;33m)\u001b[0m\u001b[1;33m\u001b[0m\u001b[1;33m\u001b[0m\u001b[0m\n\u001b[0m\u001b[0;32m      7\u001b[0m \u001b[1;33m\u001b[0m\u001b[0m\n\u001b[0;32m      8\u001b[0m \u001b[0mauth\u001b[0m\u001b[1;33m.\u001b[0m\u001b[0mset_access_token\u001b[0m\u001b[1;33m(\u001b[0m\u001b[0maccess_token\u001b[0m\u001b[1;33m,\u001b[0m\u001b[0maccess_token_secret\u001b[0m\u001b[1;33m)\u001b[0m\u001b[1;33m\u001b[0m\u001b[1;33m\u001b[0m\u001b[0m\n",
      "\u001b[1;31mNameError\u001b[0m: name 'tweepy' is not defined"
     ]
    }
   ],
   "source": [
    "consumer_key = 'FsNkq2SyJl469EAnCJlzQjTbW'\n",
    "consumer_secret = 'LdBzdUNzoM9dcz4Oa2BOCp8Lp6IqdvRk3khvxYRdwnWQdxnDPl'\n",
    "access_token ='1339939296611069957-g6C97ncUsHoBAj5y8mH6XOegM90jv5' \n",
    "access_token_secret = 'J9hkEtJaNC1Doxe2PhE6ymT2l83x77zFUjRAkwrW0jiWk'\n",
    "\n",
    "auth = tweepy.OAuthHandler(consumer_key,consumer_secret)\n",
    "\n",
    "auth.set_access_token(access_token,access_token_secret)\n",
    "#OBTENER MI INFORMACION\n",
    "api = tweepy.API(auth, wait_on_rate_limit=True, wait_on_rate_limit_notify=True) \n",
    "#data = api.me()\n",
    "#print(json.dumps(data._json, indent=2))\n",
    "\n",
    "\n",
    "#USUARIO NIKE\n",
    "#data = api.get_user('nike')\n",
    "#print(json.dumps(data._json, indent=2))\n",
    "\n",
    "#OBTENER FOLLOWERS\n",
    "data = api.followers(screen_name='nike')\n",
    "#for user in data:\n",
    " #   print(json.dumps(user._json, indent=2))\n",
    "#for user in tweepy.Cursor(api.followers, screen_name = 'nike').items(100):\n",
    "  #  print(json.dumps(user._json, indent=2))\n",
    "    \n",
    "#OBTENER FRIENDS DE UN USER\n",
    "#for user in tweepy.Cursor(api.friends, screen_name = 'nike').items(100):\n",
    " #   print(json.dumps(user._json, indent=2))\n",
    "\n",
    "    \n",
    "    \n",
    "for tweet in tweepy.Cursor(api.user_timeline, screen_name='AbAlvaroNoboa', tweet_mode = 'extend').items(25):\n",
    "    print(json.dumps(tweet._json, indent=2))\n",
    "    \n",
    "    \n",
    "#print(api.trends_available())\n",
    "#datos = tweepy.Cursor(api.search, q='#Noboa2021', tweet_mode = 'extend', rpp=20)\n",
    "#print(datos._json['text'])\n",
    "    \n",
    "#BUSCAR TWEETS\n",
    "#i=0\n",
    "#for tweet in tweepy.Cursor(api.search, q='#ElBinomioDeLaEsperanza', tweet_mode = 'extend' ).items(100):\n",
    " #   print(tweet._json['text'])\n",
    "  #  i=i+1\n",
    "  #  print(json.dumps(tweet._json, indent=2))\n",
    "#print (i)"
   ]
  },
  {
   "cell_type": "code",
   "execution_count": null,
   "metadata": {},
   "outputs": [],
   "source": []
  }
 ],
 "metadata": {
  "kernelspec": {
   "display_name": "Python 3",
   "language": "python",
   "name": "python3"
  },
  "language_info": {
   "codemirror_mode": {
    "name": "ipython",
    "version": 3
   },
   "file_extension": ".py",
   "mimetype": "text/x-python",
   "name": "python",
   "nbconvert_exporter": "python",
   "pygments_lexer": "ipython3",
   "version": "3.8.5"
  }
 },
 "nbformat": 4,
 "nbformat_minor": 4
}
