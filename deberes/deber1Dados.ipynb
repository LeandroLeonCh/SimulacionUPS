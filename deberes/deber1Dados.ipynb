{
 "cells": [
  {
   "cell_type": "code",
   "execution_count": 15,
   "metadata": {},
   "outputs": [],
   "source": [
    "from random import randrange,randint\n",
    "import matplotlib.pyplot as plt\n",
    "import numpy as np"
   ]
  },
  {
   "cell_type": "code",
   "execution_count": 22,
   "metadata": {},
   "outputs": [
    {
     "name": "stdout",
     "output_type": "stream",
     "text": [
      "Cuantas veces va a lanzar los dados?\n",
      "A:10\n",
      "B:100\n",
      "C:1000\n",
      "D:10000\n",
      "C\n"
     ]
    },
    {
     "data": {
      "image/png": "[encoded data removed]",
      "text/plain": [
       "<Figure size 432x288 with 1 Axes>"
      ]
     },
     "metadata": {
      "needs_background": "light"
     },
     "output_type": "display_data"
    }
   ],
   "source": [
    "#Menú para elegir el número de lanzamientos\n",
    "print('Cuantas veces va a lanzar los dados?')\n",
    "\n",
    "print('A:10')\n",
    "print('B:100')\n",
    "print('C:1000')\n",
    "print('D:10000')\n",
    "opcion = input()\n",
    "\n",
    "if opcion == 'A':\n",
    "    iteraciones=10\n",
    "elif opcion == 'B':\n",
    "    iteraciones=100\n",
    "elif opcion == 'C':\n",
    "    iteraciones=1000\n",
    "elif opcion == 'D':\n",
    "    iteraciones=10000\n",
    "i=0\n",
    "datos = []\n",
    "\n",
    "while i < iteraciones:\n",
    "    dado_uno = randint(1,6)\n",
    "    dado_dos = randint(1,6)\n",
    "    valor_total = dado_uno+dado_dos\n",
    "    datos.append(valor_total)\n",
    "    #print(valor_total)\n",
    "    i+=1\n",
    "'''for x in datos:\n",
    "      print(x)'''\n",
    "plt.hist(datos, bins=iteraciones)\n",
    "\n",
    "plt.show()"
   ]
  },
  {
   "cell_type": "code",
   "execution_count": null,
   "metadata": {},
   "outputs": [],
   "source": []
  },
  {
   "cell_type": "code",
   "execution_count": null,
   "metadata": {},
   "outputs": [],
   "source": []
  }
 ],
 "metadata": {
  "kernelspec": {
   "display_name": "Python 3",
   "language": "python",
   "name": "python3"
  },
  "language_info": {
   "codemirror_mode": {
    "name": "ipython",
    "version": 3
   },
   "file_extension": ".py",
   "mimetype": "text/x-python",
   "name": "python",
   "nbconvert_exporter": "python",
   "pygments_lexer": "ipython3",
   "version": "3.8.5"
  }
 },
 "nbformat": 4,
 "nbformat_minor": 4
}
