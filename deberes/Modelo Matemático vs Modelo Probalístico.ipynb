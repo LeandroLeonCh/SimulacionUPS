{
 "cells": [
  {
   "cell_type": "markdown",
   "metadata": {},
   "source": [
    "## Método Probabilístico\n",
    "### Leandro León\n",
    "Se crea modelos de series temporales del número total de personas infectadas hasta la fecha (es decir, las personas realmente infectadas más las personas que han sido infectadas). Estos modelos tienen parámetros , que se estimarán por ajuste de probabilidad.\n"
   ]
  },
  {
   "cell_type": "code",
   "execution_count": 1,
   "metadata": {},
   "outputs": [],
   "source": [
    "import numpy as np\n",
    "import pandas as pd\n",
    "import matplotlib.pyplot as mp\n",
    "from datetime import datetime,timedelta\n",
    "from sklearn import linear_model\n",
    "from scipy.optimize import curve_fit"
   ]
  },
  {
   "cell_type": "code",
   "execution_count": 2,
   "metadata": {},
   "outputs": [
    {
     "data": {
      "text/html": [
       "<div>\n",
       "<style scoped>\n",
       "    .dataframe tbody tr th:only-of-type {\n",
       "        vertical-align: middle;\n",
       "    }\n",
       "\n",
       "    .dataframe tbody tr th {\n",
       "        vertical-align: top;\n",
       "    }\n",
       "\n",
       "    .dataframe thead th {\n",
       "        text-align: right;\n",
       "    }\n",
       "</style>\n",
       "<table border=\"1\" class=\"dataframe\">\n",
       "  <thead>\n",
       "    <tr style=\"text-align: right;\">\n",
       "      <th></th>\n",
       "      <th>Province/State</th>\n",
       "      <th>Country/Region</th>\n",
       "      <th>Lat</th>\n",
       "      <th>Long</th>\n",
       "      <th>Date</th>\n",
       "      <th>Confirmed</th>\n",
       "      <th>Deaths</th>\n",
       "      <th>Recovered</th>\n",
       "      <th>Active</th>\n",
       "      <th>WHO Region</th>\n",
       "    </tr>\n",
       "  </thead>\n",
       "  <tbody>\n",
       "    <tr>\n",
       "      <th>0</th>\n",
       "      <td>NaN</td>\n",
       "      <td>Afghanistan</td>\n",
       "      <td>33.939110</td>\n",
       "      <td>67.709953</td>\n",
       "      <td>2020-01-22</td>\n",
       "      <td>0</td>\n",
       "      <td>0</td>\n",
       "      <td>0</td>\n",
       "      <td>0</td>\n",
       "      <td>Eastern Mediterranean</td>\n",
       "    </tr>\n",
       "    <tr>\n",
       "      <th>1</th>\n",
       "      <td>NaN</td>\n",
       "      <td>Albania</td>\n",
       "      <td>41.153300</td>\n",
       "      <td>20.168300</td>\n",
       "      <td>2020-01-22</td>\n",
       "      <td>0</td>\n",
       "      <td>0</td>\n",
       "      <td>0</td>\n",
       "      <td>0</td>\n",
       "      <td>Europe</td>\n",
       "    </tr>\n",
       "    <tr>\n",
       "      <th>2</th>\n",
       "      <td>NaN</td>\n",
       "      <td>Algeria</td>\n",
       "      <td>28.033900</td>\n",
       "      <td>1.659600</td>\n",
       "      <td>2020-01-22</td>\n",
       "      <td>0</td>\n",
       "      <td>0</td>\n",
       "      <td>0</td>\n",
       "      <td>0</td>\n",
       "      <td>Africa</td>\n",
       "    </tr>\n",
       "    <tr>\n",
       "      <th>3</th>\n",
       "      <td>NaN</td>\n",
       "      <td>Andorra</td>\n",
       "      <td>42.506300</td>\n",
       "      <td>1.521800</td>\n",
       "      <td>2020-01-22</td>\n",
       "      <td>0</td>\n",
       "      <td>0</td>\n",
       "      <td>0</td>\n",
       "      <td>0</td>\n",
       "      <td>Europe</td>\n",
       "    </tr>\n",
       "    <tr>\n",
       "      <th>4</th>\n",
       "      <td>NaN</td>\n",
       "      <td>Angola</td>\n",
       "      <td>-11.202700</td>\n",
       "      <td>17.873900</td>\n",
       "      <td>2020-01-22</td>\n",
       "      <td>0</td>\n",
       "      <td>0</td>\n",
       "      <td>0</td>\n",
       "      <td>0</td>\n",
       "      <td>Africa</td>\n",
       "    </tr>\n",
       "    <tr>\n",
       "      <th>...</th>\n",
       "      <td>...</td>\n",
       "      <td>...</td>\n",
       "      <td>...</td>\n",
       "      <td>...</td>\n",
       "      <td>...</td>\n",
       "      <td>...</td>\n",
       "      <td>...</td>\n",
       "      <td>...</td>\n",
       "      <td>...</td>\n",
       "      <td>...</td>\n",
       "    </tr>\n",
       "    <tr>\n",
       "      <th>49063</th>\n",
       "      <td>NaN</td>\n",
       "      <td>Sao Tome and Principe</td>\n",
       "      <td>0.186400</td>\n",
       "      <td>6.613100</td>\n",
       "      <td>2020-07-27</td>\n",
       "      <td>865</td>\n",
       "      <td>14</td>\n",
       "      <td>734</td>\n",
       "      <td>117</td>\n",
       "      <td>Africa</td>\n",
       "    </tr>\n",
       "    <tr>\n",
       "      <th>49064</th>\n",
       "      <td>NaN</td>\n",
       "      <td>Yemen</td>\n",
       "      <td>15.552727</td>\n",
       "      <td>48.516388</td>\n",
       "      <td>2020-07-27</td>\n",
       "      <td>1691</td>\n",
       "      <td>483</td>\n",
       "      <td>833</td>\n",
       "      <td>375</td>\n",
       "      <td>Eastern Mediterranean</td>\n",
       "    </tr>\n",
       "    <tr>\n",
       "      <th>49065</th>\n",
       "      <td>NaN</td>\n",
       "      <td>Comoros</td>\n",
       "      <td>-11.645500</td>\n",
       "      <td>43.333300</td>\n",
       "      <td>2020-07-27</td>\n",
       "      <td>354</td>\n",
       "      <td>7</td>\n",
       "      <td>328</td>\n",
       "      <td>19</td>\n",
       "      <td>Africa</td>\n",
       "    </tr>\n",
       "    <tr>\n",
       "      <th>49066</th>\n",
       "      <td>NaN</td>\n",
       "      <td>Tajikistan</td>\n",
       "      <td>38.861000</td>\n",
       "      <td>71.276100</td>\n",
       "      <td>2020-07-27</td>\n",
       "      <td>7235</td>\n",
       "      <td>60</td>\n",
       "      <td>6028</td>\n",
       "      <td>1147</td>\n",
       "      <td>Europe</td>\n",
       "    </tr>\n",
       "    <tr>\n",
       "      <th>49067</th>\n",
       "      <td>NaN</td>\n",
       "      <td>Lesotho</td>\n",
       "      <td>-29.610000</td>\n",
       "      <td>28.233600</td>\n",
       "      <td>2020-07-27</td>\n",
       "      <td>505</td>\n",
       "      <td>12</td>\n",
       "      <td>128</td>\n",
       "      <td>365</td>\n",
       "      <td>Africa</td>\n",
       "    </tr>\n",
       "  </tbody>\n",
       "</table>\n",
       "<p>49068 rows × 10 columns</p>\n",
       "</div>"
      ],
      "text/plain": [
       "      Province/State         Country/Region        Lat       Long        Date  \\\n",
       "0                NaN            Afghanistan  33.939110  67.709953  2020-01-22   \n",
       "1                NaN                Albania  41.153300  20.168300  2020-01-22   \n",
       "2                NaN                Algeria  28.033900   1.659600  2020-01-22   \n",
       "3                NaN                Andorra  42.506300   1.521800  2020-01-22   \n",
       "4                NaN                 Angola -11.202700  17.873900  2020-01-22   \n",
       "...              ...                    ...        ...        ...         ...   \n",
       "49063            NaN  Sao Tome and Principe   0.186400   6.613100  2020-07-27   \n",
       "49064            NaN                  Yemen  15.552727  48.516388  2020-07-27   \n",
       "49065            NaN                Comoros -11.645500  43.333300  2020-07-27   \n",
       "49066            NaN             Tajikistan  38.861000  71.276100  2020-07-27   \n",
       "49067            NaN                Lesotho -29.610000  28.233600  2020-07-27   \n",
       "\n",
       "       Confirmed  Deaths  Recovered  Active             WHO Region  \n",
       "0              0       0          0       0  Eastern Mediterranean  \n",
       "1              0       0          0       0                 Europe  \n",
       "2              0       0          0       0                 Africa  \n",
       "3              0       0          0       0                 Europe  \n",
       "4              0       0          0       0                 Africa  \n",
       "...          ...     ...        ...     ...                    ...  \n",
       "49063        865      14        734     117                 Africa  \n",
       "49064       1691     483        833     375  Eastern Mediterranean  \n",
       "49065        354       7        328      19                 Africa  \n",
       "49066       7235      60       6028    1147                 Europe  \n",
       "49067        505      12        128     365                 Africa  \n",
       "\n",
       "[49068 rows x 10 columns]"
      ]
     },
     "execution_count": 2,
     "metadata": {},
     "output_type": "execute_result"
    }
   ],
   "source": [
    "url = 'covid_19_clean_complete.csv'\n",
    "df = pd.read_csv(url)\n",
    "df"
   ]
  },
  {
   "cell_type": "markdown",
   "metadata": {},
   "source": [
    "### Una vez leído los datos,filtramos los que se usarán para el método"
   ]
  },
  {
   "cell_type": "code",
   "execution_count": 3,
   "metadata": {},
   "outputs": [
    {
     "data": {
      "text/html": [
       "<div>\n",
       "<style scoped>\n",
       "    .dataframe tbody tr th:only-of-type {\n",
       "        vertical-align: middle;\n",
       "    }\n",
       "\n",
       "    .dataframe tbody tr th {\n",
       "        vertical-align: top;\n",
       "    }\n",
       "\n",
       "    .dataframe thead th {\n",
       "        text-align: right;\n",
       "    }\n",
       "</style>\n",
       "<table border=\"1\" class=\"dataframe\">\n",
       "  <thead>\n",
       "    <tr style=\"text-align: right;\">\n",
       "      <th></th>\n",
       "      <th>Date</th>\n",
       "      <th>Confirmed</th>\n",
       "      <th>Recovered</th>\n",
       "    </tr>\n",
       "  </thead>\n",
       "  <tbody>\n",
       "    <tr>\n",
       "      <th>95</th>\n",
       "      <td>21</td>\n",
       "      <td>0</td>\n",
       "      <td>0</td>\n",
       "    </tr>\n",
       "    <tr>\n",
       "      <th>356</th>\n",
       "      <td>22</td>\n",
       "      <td>0</td>\n",
       "      <td>0</td>\n",
       "    </tr>\n",
       "    <tr>\n",
       "      <th>617</th>\n",
       "      <td>23</td>\n",
       "      <td>0</td>\n",
       "      <td>0</td>\n",
       "    </tr>\n",
       "    <tr>\n",
       "      <th>878</th>\n",
       "      <td>24</td>\n",
       "      <td>0</td>\n",
       "      <td>0</td>\n",
       "    </tr>\n",
       "    <tr>\n",
       "      <th>1139</th>\n",
       "      <td>25</td>\n",
       "      <td>0</td>\n",
       "      <td>0</td>\n",
       "    </tr>\n",
       "    <tr>\n",
       "      <th>...</th>\n",
       "      <td>...</td>\n",
       "      <td>...</td>\n",
       "      <td>...</td>\n",
       "    </tr>\n",
       "    <tr>\n",
       "      <th>47858</th>\n",
       "      <td>204</td>\n",
       "      <td>78148</td>\n",
       "      <td>33455</td>\n",
       "    </tr>\n",
       "    <tr>\n",
       "      <th>48119</th>\n",
       "      <td>205</td>\n",
       "      <td>79049</td>\n",
       "      <td>34544</td>\n",
       "    </tr>\n",
       "    <tr>\n",
       "      <th>48380</th>\n",
       "      <td>206</td>\n",
       "      <td>80036</td>\n",
       "      <td>34544</td>\n",
       "    </tr>\n",
       "    <tr>\n",
       "      <th>48641</th>\n",
       "      <td>207</td>\n",
       "      <td>80694</td>\n",
       "      <td>34896</td>\n",
       "    </tr>\n",
       "    <tr>\n",
       "      <th>48902</th>\n",
       "      <td>208</td>\n",
       "      <td>81161</td>\n",
       "      <td>34896</td>\n",
       "    </tr>\n",
       "  </tbody>\n",
       "</table>\n",
       "<p>188 rows × 3 columns</p>\n",
       "</div>"
      ],
      "text/plain": [
       "       Date  Confirmed  Recovered\n",
       "95       21          0          0\n",
       "356      22          0          0\n",
       "617      23          0          0\n",
       "878      24          0          0\n",
       "1139     25          0          0\n",
       "...     ...        ...        ...\n",
       "47858   204      78148      33455\n",
       "48119   205      79049      34544\n",
       "48380   206      80036      34544\n",
       "48641   207      80694      34896\n",
       "48902   208      81161      34896\n",
       "\n",
       "[188 rows x 3 columns]"
      ]
     },
     "execution_count": 3,
     "metadata": {},
     "output_type": "execute_result"
    }
   ],
   "source": [
    "df = df[df['Country/Region'].isin(['Ecuador'])] #Filtro la Informacion solo para Ecuador\n",
    "df = df.loc[:,['Date','Confirmed', 'Recovered']] #Selecciono las columnas de analasis\n",
    "# Expresar las fechas en numero de dias desde el 01 Enero\n",
    "FMT = '%Y-%m-%d'\n",
    "date = df['Date']\n",
    "df['Date'] = date.map(lambda x : (datetime.strptime(x, FMT) - datetime.strptime(\"2020-01-01\", FMT)).days)\n",
    "\n",
    "df"
   ]
  },
  {
   "cell_type": "code",
   "execution_count": 11,
   "metadata": {},
   "outputs": [
    {
     "data": {
      "text/plain": [
       "<AxesSubplot:xlabel='Date'>"
      ]
     },
     "execution_count": 11,
     "metadata": {},
     "output_type": "execute_result"
    },
    {
     "data": {
      "image/png": "[encoded data removed]",
      "text/plain": [
       "<Figure size 432x288 with 1 Axes>"
      ]
     },
     "metadata": {
      "needs_background": "light"
     },
     "output_type": "display_data"
    }
   ],
   "source": [
    "df.plot(x ='Date', y='Confirmed')"
   ]
  },
  {
   "cell_type": "markdown",
   "metadata": {},
   "source": [
    "#### La grráfica representa como se ha venido dando los contagios desde la fecha 0 "
   ]
  },
  {
   "cell_type": "code",
   "execution_count": 12,
   "metadata": {},
   "outputs": [
    {
     "data": {
      "image/png": "[encoded data removed]",
      "text/plain": [
       "<Figure size 432x288 with 1 Axes>"
      ]
     },
     "metadata": {
      "needs_background": "light"
     },
     "output_type": "display_data"
    }
   ],
   "source": [
    "filtro = df[\"Confirmed\"] # Filtro los datos que se empezo a tener casos\n",
    "#Obtenemos la mediana\n",
    "x = list(df.iloc [:, 0]) # Fecha\n",
    "y = list(df.iloc [:, 1])\n",
    "media = filtro.mean()\n",
    "mediana = filtro.median()\n",
    "x4, y4 = [x[-1]], [y[-1]]\n",
    "for i in range(x[-1], x[-1] + 8):\n",
    "    x4.append(i)\n",
    "    y4.append(int(y4[-1] + mediana))\n",
    "mp.plot(x[50:], y[50:], label=\"Datos Reales\")\n",
    "mp.plot(x4, y4, label=\"Modelo Probabilístico\", color=\"green\")\n",
    "mp.legend()\n",
    "mp.ylabel(\"Total de casos\")\n",
    "mp.show()"
   ]
  },
  {
   "cell_type": "markdown",
   "metadata": {},
   "source": [
    "##### Según el modelo, habrá un despunte abrupto de contagios en las próximas semanas"
   ]
  },
  {
   "cell_type": "markdown",
   "metadata": {},
   "source": [
    "## Parte 2\n",
    "1. Comparar el modelo de predicion matematico vs probabilidad.\n",
    "2. Retroceder un semana y comparar el modelo matematico vs probabilidad vs reales. Solo cargan los datos para generar los modelos menos 7 dias.\n",
    "3. Puntos extras: Investigas sobre la correlacion de variables y aplicar el calculo en base a los datos del Ecuador"
   ]
  },
  {
   "cell_type": "code",
   "execution_count": 21,
   "metadata": {},
   "outputs": [
    {
     "name": "stdout",
     "output_type": "stream",
     "text": [
      "[0, 0, 0, 0, 0, 0, 0, 0, 0, 0, 0, 0, 0, 0, 0, 0, 0, 0, 0, 0, 0, 0, 0, 0, 0, 0, 0, 0, 0, 0, 0, 0, 0, 0, 0, 0, 0, 0, 0, 0, 0, 0, 0, 0, 0, 0, 0, 0, 0, 0, 0, 0, 0, 0, 0, 0, 0, 0, 0, 3, 3, 3, 3, 3, 3, 3, 3, 3, 3, 54, 58, 65, 65, 100, 100, 100, 100, 140, 339, 368, 411, 501, 597, 696, 780, 838, 838, 1008, 1061, 1150, 1207, 1262, 1328, 1366, 1366, 1366, 1557, 1557, 1557, 1558, 1913, 2132, 3300, 3433, 3433, 3433, 3433, 3433, 3433, 3433, 3433, 3433, 3433, 3433, 3433, 3433, 3433, 3433, 3457, 3557, 3557, 3557, 3557, 3560, 18003, 18003, 18425, 18425, 19190, 19190, 19592, 19592, 20019, 20019, 20019, 20568, 21020, 21020, 21020, 21020, 21862, 21862, 22679, 22865, 23064, 23349, 23684, 23881, 24123, 24446, 24446, 24991, 24991, 24991, 24991, 26097, 26493, 26920, 27058, 27430, 27594, 27887, 28032, 28391, 28507, 28722, 28872, 29071, 29071, 29184, 29577, 30107, 30283, 30369, 30484, 30641, 31260, 31404, 31757, 31901, 31955, 32725, 33125, 33455, 34544, 34544, 34896, 34896, 57615, 80334, 103053, 125772, 148491, 171210, 193929, 216648]\n"
     ]
    },
    {
     "data": {
      "image/png": "[encoded data removed]",
      "text/plain": [
       "<Figure size 432x288 with 1 Axes>"
      ]
     },
     "metadata": {
      "needs_background": "light"
     },
     "output_type": "display_data"
    }
   ],
   "source": [
    "# predicion probabilidad\n",
    "x = list(df.iloc [:, 0]) # Dias \n",
    "y = list(df.iloc [:, 2]) # Total casos\n",
    "#Realizamos un ejemplo de prediccion\n",
    "prediccion_siguiente = int(y[-1] + mediana)\n",
    "\n",
    "mp.plot(x[-1],y[-1],'o',label='actual')\n",
    "\n",
    "#predicion a una semana\n",
    "for i in range(x[-1], x[-1]+8):\n",
    "    x.append(i)\n",
    "    y.append(int(y[-1] + mediana))\n",
    "\n",
    "print(y)    \n",
    "#predicion matematica \n",
    "x1 = np.array(x)\n",
    "y1 = np.array(y)  \n",
    "def func_polinomial(x, a, b, c, d):\n",
    "    return a*x**4 + b*x**3 + c*x**2 + d*x + 1\n",
    "\n",
    "popt1, pcov1 = curve_fit(func_polinomial, x1, y1)\n",
    "pred_x = list(range(min(x1),max(x1)+7))\n",
    "\n",
    "pred_x = np.array(pred_x, dtype=float)\n",
    "\n",
    "\n",
    "\n",
    "\n",
    "mp.plot(x, y,'red',label='Predición de Probabilidad')\n",
    "mp.plot(pred_x,func_polinomial(pred_x,*popt1),'blue',label='Predición Matemática')\n",
    "mp.legend(loc='upper left')\n",
    "mp.grid(True)\n",
    "mp.show()"
   ]
  },
  {
   "cell_type": "markdown",
   "metadata": {},
   "source": [
    "### Se puede observar que el modelo matemático nos da una curva más real de como se irán dando los contagios, auqnue a fin de cuentas ambas nos dan un incremento consderable de los casos \n",
    "\n",
    "## Retroceso de 2 semanas y volver a comparar los modelos"
   ]
  },
  {
   "cell_type": "code",
   "execution_count": 31,
   "metadata": {},
   "outputs": [
    {
     "name": "stdout",
     "output_type": "stream",
     "text": [
      "62449\n"
     ]
    },
    {
     "data": {
      "image/png": "[encoded data removed]",
      "text/plain": [
       "<Figure size 576x576 with 1 Axes>"
      ]
     },
     "metadata": {
      "needs_background": "light"
     },
     "output_type": "display_data"
    }
   ],
   "source": [
    "df2 = pd.read_csv('covid_19_clean_complete.csv')\n",
    "#df2 = df\n",
    "df2 = df2[df2['Country/Region'].isin(['Ecuador'])] #Filtro la Informacion solo para Ecuador\n",
    "df2 = df2[(df2.Confirmed >= 1)]\n",
    "df2 = df2.loc[:,['Date', 'Confirmed', 'Recovered']] #Selecciono las columnas de analasis\n",
    "\n",
    "FMT = '%Y-%m-%d'\n",
    "date = df2['Date']\n",
    "\n",
    "df2['Date'] = date.map(lambda x : (datetime.strptime(x, FMT) - datetime.strptime(\"2020-01-01\", FMT)).days)\n",
    "\n",
    "data = df2[:-7]\n",
    "\n",
    "#Modelo probablistico\n",
    "filtro1 = data[\"Confirmed\"] # Filtro los datos que se empezo a tener casos\n",
    "#Obtenemos la mediana\n",
    "media1 = filtro1.mean()\n",
    "mediana1 = filtro1.median()\n",
    "\n",
    "y1 = list(data.iloc [:, 2]) # Total casos\n",
    "x1 = list(data.iloc [:, 0]) # Dias\n",
    "\n",
    "#Realizamos un ejemplo de prediccion\n",
    "prediccion_siguiente1 = int(y1[-1] + mediana1)\n",
    "print(prediccion_siguiente1)\n",
    "\n",
    "for i in range(x1[-1], x1[-1]+8):\n",
    "    x1.append(i)\n",
    "    y1.append(int(y1[-1] + mediana))\n",
    "\n",
    "\n",
    "#modelo matematico\n",
    "x1 = np.array(x1, dtype=float)\n",
    "y1 = np.array(y1, dtype=float)\n",
    "def func_polinomial(x, a, b, c, d):\n",
    "    return a*x**4 + b*x**3 + c*x**2 + d*x + 1\n",
    "\n",
    "popt1, pcov1 = curve_fit(func_polinomial, x1, y1)\n",
    "\n",
    "x2 = df2.Date\n",
    "y2 = df2.Confirmed\n",
    "\n",
    "mp.figure(figsize=(8,8))\n",
    "mp.plot(x2, y2,'g*',label='Datos originales')\n",
    "mp.plot(x1, y1,color='r',label='Predicion Probabilidad menos 7 dias')\n",
    "mp.plot(x1,func_polinomial(x1,*popt1),label='Predicion Matematica menos 7 dias')\n",
    "mp.legend(loc='upper left')\n",
    "mp.grid(True)\n",
    "mp.show()"
   ]
  },
  {
   "cell_type": "markdown",
   "metadata": {},
   "source": [
    "En base a la anterior predicción en tiempo real se decía que daban una predicción quizá hasta exagerada, pero dando un vistazo a esta predicción de hace 7 días, nos podemos dar en cuenta que no son exaeradas dichas predicciones y que los casos si han ido en bastante aumento. \n",
    "Quizá por la falta de cuidado de la población y la ineptitud de las autoridades de turno. A partir de estos factores, la pandemia ha puesto al país y su población en una situación muy vulnerable."
   ]
  },
  {
   "cell_type": "code",
   "execution_count": null,
   "metadata": {},
   "outputs": [],
   "source": []
  }
 ],
 "metadata": {
  "kernelspec": {
   "display_name": "'Python(ia2)'",
   "language": "python",
   "name": "ia2"
  },
  "language_info": {
   "codemirror_mode": {
    "name": "ipython",
    "version": 3
   },
   "file_extension": ".py",
   "mimetype": "text/x-python",
   "name": "python",
   "nbconvert_exporter": "python",
   "pygments_lexer": "ipython3",
   "version": "3.8.5"
  }
 },
 "nbformat": 4,
 "nbformat_minor": 4
}
